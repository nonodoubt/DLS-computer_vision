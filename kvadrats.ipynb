{
 "cells": [
  {
   "cell_type": "code",
   "execution_count": 1,
   "id": "9eda84de",
   "metadata": {
    "execution": {
     "iopub.execute_input": "2024-07-10T21:57:30.939741Z",
     "iopub.status.busy": "2024-07-10T21:57:30.939051Z",
     "iopub.status.idle": "2024-07-10T21:57:51.271722Z",
     "shell.execute_reply": "2024-07-10T21:57:51.270514Z"
    },
    "papermill": {
     "duration": 20.343844,
     "end_time": "2024-07-10T21:57:51.274386",
     "exception": false,
     "start_time": "2024-07-10T21:57:30.930542",
     "status": "completed"
    },
    "tags": []
   },
   "outputs": [
    {
     "name": "stdout",
     "output_type": "stream",
     "text": [
      "Collecting torchsummary\r\n",
      "  Downloading torchsummary-1.5.1-py3-none-any.whl.metadata (296 bytes)\r\n",
      "Downloading torchsummary-1.5.1-py3-none-any.whl (2.8 kB)\r\n",
      "Installing collected packages: torchsummary\r\n",
      "Successfully installed torchsummary-1.5.1\r\n"
     ]
    }
   ],
   "source": [
    "import os\n",
    "import torch\n",
    "import torch.nn as nn\n",
    "import torch.optim as optim\n",
    "import torchvision.transforms as transforms\n",
    "from PIL import Image\n",
    "import pandas as pd\n",
    "import numpy as np\n",
    "import matplotlib.pyplot as plt\n",
    "from time import time\n",
    "from sklearn.metrics import mean_squared_error\n",
    "from sklearn.model_selection import train_test_split\n",
    "\n",
    "device = torch.device(\"cuda\" if torch.cuda.is_available() else \"cpu\")\n",
    "\n",
    "import torchvision\n",
    "from torch.utils.data import Dataset, DataLoader, random_split\n",
    "from torchvision import models\n",
    "import torch.nn.functional as F  # Добавьте этот импорт\n",
    "import torch.optim as optim\n",
    "from skimage.transform import resize\n",
    "from torch.optim import lr_scheduler\n",
    "from time import time\n",
    "!pip install torchsummary\n",
    "from torchsummary import summary\n",
    "from PIL import Image\n",
    "import pandas as pd\n",
    "from tqdm import tqdm"
   ]
  },
  {
   "cell_type": "code",
   "execution_count": 2,
   "id": "e7c421cf",
   "metadata": {
    "execution": {
     "iopub.execute_input": "2024-07-10T21:57:51.291343Z",
     "iopub.status.busy": "2024-07-10T21:57:51.290276Z",
     "iopub.status.idle": "2024-07-10T21:57:51.300496Z",
     "shell.execute_reply": "2024-07-10T21:57:51.299649Z"
    },
    "papermill": {
     "duration": 0.020492,
     "end_time": "2024-07-10T21:57:51.302441",
     "exception": false,
     "start_time": "2024-07-10T21:57:51.281949",
     "status": "completed"
    },
    "tags": []
   },
   "outputs": [],
   "source": [
    "class CustomDataset(Dataset):\n",
    "    def __init__(self, csv_file, root_dir, transform=None):\n",
    "        self.data = pd.read_csv(csv_file)\n",
    "        self.root_dir = root_dir\n",
    "        self.transform = transform\n",
    "\n",
    "    def __len__(self):\n",
    "        return len(self.data)\n",
    "\n",
    "    def __getitem__(self, idx):\n",
    "        img_name = os.path.join(self.root_dir, self.data.iloc[idx, 0])\n",
    "        image = Image.open(img_name).convert(\"RGB\")\n",
    "        target = self.data.iloc[idx, 1]\n",
    "        if self.transform:\n",
    "            image = self.transform(image)\n",
    "        return image, target\n",
    "\n",
    "def split_train_val(dataframe, test_size=0.1, random_state=42):\n",
    "    train_df, val_df = train_test_split(dataframe, test_size=test_size, random_state=random_state)\n",
    "    return train_df, val_df\n",
    "\n",
    "# Преобразования изображений для обучения и теста\n",
    "transform = transforms.Compose([\n",
    "    transforms.RandomRotation(degrees=30),  # Случайный поворот на угол до 30 градусов\n",
    "    transforms.ColorJitter(contrast=0.5),  # Случайное изменение контрастности\n",
    "    transforms.ToTensor()\n",
    "])\n",
    "\n"
   ]
  },
  {
   "cell_type": "code",
   "execution_count": 3,
   "id": "3acb5b76",
   "metadata": {
    "execution": {
     "iopub.execute_input": "2024-07-10T21:57:51.318064Z",
     "iopub.status.busy": "2024-07-10T21:57:51.317436Z",
     "iopub.status.idle": "2024-07-10T21:57:51.323756Z",
     "shell.execute_reply": "2024-07-10T21:57:51.322993Z"
    },
    "papermill": {
     "duration": 0.016372,
     "end_time": "2024-07-10T21:57:51.325589",
     "exception": false,
     "start_time": "2024-07-10T21:57:51.309217",
     "status": "completed"
    },
    "tags": []
   },
   "outputs": [],
   "source": [
    "def show_images(dataloader, num_images):\n",
    "    dataiter = iter(dataloader)\n",
    "    images, labels = next(dataiter)\n",
    "\n",
    "    images = images[:num_images]\n",
    "    labels = labels[:num_images]\n",
    "\n",
    "    fig, axes = plt.subplots(1, num_images, figsize=(15, 15))\n",
    "    for idx, (img, label) in enumerate(zip(images, labels)):\n",
    "        ax = axes[idx]\n",
    "        img = img.permute(1, 2, 0).numpy()  # Перекладываем каналы для отображения\n",
    "        ax.imshow(img)\n",
    "        ax.set_title(f'Image {idx+1} - Type {label}')\n",
    "        ax.axis('off')\n",
    "    plt.show()"
   ]
  },
  {
   "cell_type": "markdown",
   "id": "4e5a773b",
   "metadata": {
    "execution": {
     "iopub.execute_input": "2024-07-10T16:06:32.593616Z",
     "iopub.status.busy": "2024-07-10T16:06:32.593347Z",
     "iopub.status.idle": "2024-07-10T16:06:32.602416Z",
     "shell.execute_reply": "2024-07-10T16:06:32.601511Z",
     "shell.execute_reply.started": "2024-07-10T16:06:32.593593Z"
    },
    "papermill": {
     "duration": 0.00664,
     "end_time": "2024-07-10T21:57:51.338935",
     "exception": false,
     "start_time": "2024-07-10T21:57:51.332295",
     "status": "completed"
    },
    "tags": []
   },
   "source": [
    "def split_dataset(dataset, val_split=0.1):\n",
    "    train_size = int((1 - val_split) * len(dataset))\n",
    "    val_size = len(dataset) - train_size\n",
    "    train_dataset, val_dataset = random_split(dataset, [train_size, val_size])\n",
    "    return train_dataset, val_dataset"
   ]
  },
  {
   "cell_type": "code",
   "execution_count": 4,
   "id": "de7ec12b",
   "metadata": {
    "execution": {
     "iopub.execute_input": "2024-07-10T21:57:51.353869Z",
     "iopub.status.busy": "2024-07-10T21:57:51.353561Z",
     "iopub.status.idle": "2024-07-10T21:57:51.366260Z",
     "shell.execute_reply": "2024-07-10T21:57:51.365486Z"
    },
    "papermill": {
     "duration": 0.022396,
     "end_time": "2024-07-10T21:57:51.368150",
     "exception": false,
     "start_time": "2024-07-10T21:57:51.345754",
     "status": "completed"
    },
    "tags": []
   },
   "outputs": [],
   "source": [
    "def train(model, optimizer, loss_fn, epochs, data_tr, data_val):\n",
    "    model.train()\n",
    "    history = {\"epochs\": np.arange(epochs) + 1, \"train\": {\"loss\": []}, \"val\": {\"loss\": [], \"rmse\": []}}\n",
    "    \n",
    "    for epoch in range(epochs):\n",
    "        running_loss = 0.0\n",
    "        for X_batch, Y_batch in data_tr:\n",
    "            X_batch = X_batch.to(device)\n",
    "            Y_batch = Y_batch.to(device).float().unsqueeze(1)\n",
    "            \n",
    "            optimizer.zero_grad()\n",
    "            Y_pred = model(X_batch)\n",
    "            loss = loss_fn(Y_pred, Y_batch)\n",
    "            loss.backward()\n",
    "            optimizer.step()\n",
    "            \n",
    "            running_loss += loss.item()\n",
    "        \n",
    "        avg_loss = running_loss / len(data_tr)\n",
    "        history[\"train\"][\"loss\"].append(avg_loss)\n",
    "        \n",
    "        val_loss, val_rmse = evaluate(model, loss_fn, data_val)\n",
    "        history[\"val\"][\"loss\"].append(val_loss)\n",
    "        history[\"val\"][\"rmse\"].append(val_rmse)\n",
    "        \n",
    "        print(f'Epoch {epoch + 1}/{epochs}, Loss: {avg_loss:.4f}, Val Loss: {val_loss:.4f}, Val RMSE: {val_rmse:.4f}')\n",
    "    \n",
    "    return history\n",
    "\n",
    "def evaluate(model, loss_fn, data_loader):\n",
    "    model.eval()\n",
    "    total_loss = 0\n",
    "    all_preds = []\n",
    "    all_targets = []\n",
    "\n",
    "    with torch.no_grad():\n",
    "        for X_batch, Y_batch in data_loader:\n",
    "            X_batch = X_batch.to(device)\n",
    "            Y_batch = Y_batch.to(device).float().unsqueeze(1)\n",
    "            Y_pred = model(X_batch)\n",
    "            loss = loss_fn(Y_pred, Y_batch)\n",
    "            total_loss += loss.item()\n",
    "            all_preds.extend(Y_pred.cpu().numpy())\n",
    "            all_targets.extend(Y_batch.cpu().numpy())\n",
    "\n",
    "    avg_loss = total_loss / len(data_loader)\n",
    "    rmse = np.sqrt(avg_loss)  # RMSE calculation\n",
    "    return avg_loss, rmse\n",
    "\n",
    "def predict(model, data_loader):\n",
    "    model.eval()\n",
    "    all_preds = []\n",
    "\n",
    "    with torch.no_grad():\n",
    "        for X_batch in data_loader:\n",
    "            X_batch = X_batch.to(device)\n",
    "            Y_pred = model(X_batch)\n",
    "            all_preds.extend(Y_pred.cpu().numpy())\n",
    "\n",
    "    return np.array(all_preds).flatten()"
   ]
  },
  {
   "cell_type": "code",
   "execution_count": 5,
   "id": "aba1ce17",
   "metadata": {
    "execution": {
     "iopub.execute_input": "2024-07-10T21:57:51.382912Z",
     "iopub.status.busy": "2024-07-10T21:57:51.382632Z",
     "iopub.status.idle": "2024-07-10T21:57:51.387753Z",
     "shell.execute_reply": "2024-07-10T21:57:51.387014Z"
    },
    "papermill": {
     "duration": 0.014568,
     "end_time": "2024-07-10T21:57:51.389601",
     "exception": false,
     "start_time": "2024-07-10T21:57:51.375033",
     "status": "completed"
    },
    "tags": []
   },
   "outputs": [],
   "source": [
    "# Функция оценки для тестовых данных (без меток)\n",
    "def evaluate_test(model, data_loader):\n",
    "    model.eval()\n",
    "    all_preds = []\n",
    "    \n",
    "    with torch.no_grad():\n",
    "        for X_batch in data_loader:\n",
    "            X_batch = X_batch.to(device)\n",
    "            Y_pred = model(X_batch)\n",
    "            all_preds.extend(Y_pred.cpu().numpy().flatten())\n",
    "    \n",
    "    return np.array(all_preds)\n"
   ]
  },
  {
   "cell_type": "code",
   "execution_count": 6,
   "id": "19fc6f0a",
   "metadata": {
    "execution": {
     "iopub.execute_input": "2024-07-10T21:57:51.404682Z",
     "iopub.status.busy": "2024-07-10T21:57:51.404056Z",
     "iopub.status.idle": "2024-07-10T21:57:51.408421Z",
     "shell.execute_reply": "2024-07-10T21:57:51.407621Z"
    },
    "papermill": {
     "duration": 0.014071,
     "end_time": "2024-07-10T21:57:51.410396",
     "exception": false,
     "start_time": "2024-07-10T21:57:51.396325",
     "status": "completed"
    },
    "tags": []
   },
   "outputs": [],
   "source": [
    "def scores(model):\n",
    "    val_loss, val_rmse = evaluate(model, loss_fn, val_loader)\n",
    "    test_preds = evaluate_test(model, test_loader)\n",
    "    return val_rmse, test_preds"
   ]
  },
  {
   "cell_type": "code",
   "execution_count": 7,
   "id": "c24b2f55",
   "metadata": {
    "execution": {
     "iopub.execute_input": "2024-07-10T21:57:51.425426Z",
     "iopub.status.busy": "2024-07-10T21:57:51.424997Z",
     "iopub.status.idle": "2024-07-10T21:57:51.431666Z",
     "shell.execute_reply": "2024-07-10T21:57:51.430847Z"
    },
    "papermill": {
     "duration": 0.01634,
     "end_time": "2024-07-10T21:57:51.433666",
     "exception": false,
     "start_time": "2024-07-10T21:57:51.417326",
     "status": "completed"
    },
    "tags": []
   },
   "outputs": [],
   "source": [
    "def make_graph(history, model_name, loss_name):\n",
    "    plt.figure(figsize=(10, 5))\n",
    "    plt.plot(history[\"epochs\"], history[\"train\"][\"loss\"], label=\"Train Loss\")\n",
    "    plt.plot(history[\"epochs\"], history[\"val\"][\"loss\"], label=\"Validation Loss\")\n",
    "    plt.xlabel(\"Epochs\")\n",
    "    plt.ylabel(loss_name)\n",
    "    plt.title(f\"{model_name} Training and Validation Loss\")\n",
    "    plt.legend()\n",
    "    plt.show()\n",
    "    \n",
    "    plt.figure(figsize=(10, 5))\n",
    "    plt.plot(history[\"epochs\"], history[\"val\"][\"rmse\"], label=\"Validation RMSE\")\n",
    "    plt.xlabel(\"Epochs\")\n",
    "    plt.ylabel(\"RMSE\")\n",
    "    plt.title(f\"{model_name} Validation RMSE\")\n",
    "    plt.legend()\n",
    "    plt.show()\n"
   ]
  },
  {
   "cell_type": "code",
   "execution_count": 8,
   "id": "4d7c2a85",
   "metadata": {
    "execution": {
     "iopub.execute_input": "2024-07-10T21:57:51.450064Z",
     "iopub.status.busy": "2024-07-10T21:57:51.449372Z",
     "iopub.status.idle": "2024-07-10T21:57:51.457100Z",
     "shell.execute_reply": "2024-07-10T21:57:51.456277Z"
    },
    "papermill": {
     "duration": 0.018361,
     "end_time": "2024-07-10T21:57:51.458970",
     "exception": false,
     "start_time": "2024-07-10T21:57:51.440609",
     "status": "completed"
    },
    "tags": []
   },
   "outputs": [],
   "source": [
    "def imshow(img):\n",
    "    img = img / 2 + 0.5  # денормализация\n",
    "    npimg = img.numpy()\n",
    "    plt.imshow(np.transpose(npimg, (1, 2, 0)))\n",
    "    plt.show()\n",
    "\n",
    "def show_images(dataloader, num_images=1):\n",
    "    dataiter = iter(dataloader)\n",
    "    images, labels = next(dataiter)\n",
    "\n",
    "    # Берем только первые num_images изображений\n",
    "    images = images[:num_images]\n",
    "    labels = labels[:num_images]\n",
    "\n",
    "    fig, axes = plt.subplots(1, num_images, figsize=(15, 15))\n",
    "    for idx in range(num_images):\n",
    "        ax = axes[idx] if num_images > 1 else axes\n",
    "        img = images[idx].permute(1, 2, 0)\n",
    "        ax.imshow(img)\n",
    "        ax.set_title(f\"Label: {labels[idx].item()}\")\n",
    "        ax.axis('off')\n",
    "    plt.show()"
   ]
  },
  {
   "cell_type": "code",
   "execution_count": 9,
   "id": "3f7dbcd7",
   "metadata": {
    "execution": {
     "iopub.execute_input": "2024-07-10T21:57:51.473496Z",
     "iopub.status.busy": "2024-07-10T21:57:51.473239Z",
     "iopub.status.idle": "2024-07-10T21:57:53.048201Z",
     "shell.execute_reply": "2024-07-10T21:57:53.047248Z"
    },
    "papermill": {
     "duration": 1.585177,
     "end_time": "2024-07-10T21:57:53.050937",
     "exception": false,
     "start_time": "2024-07-10T21:57:51.465760",
     "status": "completed"
    },
    "tags": []
   },
   "outputs": [
    {
     "name": "stderr",
     "output_type": "stream",
     "text": [
      "/opt/conda/lib/python3.10/site-packages/torchvision/models/_utils.py:208: UserWarning: The parameter 'pretrained' is deprecated since 0.13 and may be removed in the future, please use 'weights' instead.\n",
      "  warnings.warn(\n",
      "/opt/conda/lib/python3.10/site-packages/torchvision/models/_utils.py:223: UserWarning: Arguments other than a weight enum or `None` for 'weights' are deprecated since 0.13 and may be removed in the future. The current behavior is equivalent to passing `weights=ResNet50_Weights.IMAGENET1K_V1`. You can also use `weights=ResNet50_Weights.DEFAULT` to get the most up-to-date weights.\n",
      "  warnings.warn(msg)\n",
      "Downloading: \"https://download.pytorch.org/models/resnet50-0676ba61.pth\" to /root/.cache/torch/hub/checkpoints/resnet50-0676ba61.pth\n",
      "100%|██████████| 97.8M/97.8M [00:00<00:00, 159MB/s]\n"
     ]
    }
   ],
   "source": [
    "model = models.resnet50(pretrained=True)\n",
    "num_ftrs = model.fc.in_features\n",
    "model.fc = nn.Linear(num_ftrs, 1)  # Замена последнего слоя на линейный слой с одним выходом\n",
    "model = model.to(device)"
   ]
  },
  {
   "cell_type": "markdown",
   "id": "e32eadb5",
   "metadata": {
    "execution": {
     "iopub.execute_input": "2024-07-10T17:23:13.334341Z",
     "iopub.status.busy": "2024-07-10T17:23:13.334063Z",
     "iopub.status.idle": "2024-07-10T17:23:13.916364Z",
     "shell.execute_reply": "2024-07-10T17:23:13.915510Z",
     "shell.execute_reply.started": "2024-07-10T17:23:13.334319Z"
    },
    "papermill": {
     "duration": 0.007382,
     "end_time": "2024-07-10T21:57:53.066956",
     "exception": false,
     "start_time": "2024-07-10T21:57:53.059574",
     "status": "completed"
    },
    "tags": []
   },
   "source": [
    "class Net(nn.Module):\n",
    "    def __init__(self):\n",
    "        super(Net, self).__init__()\n",
    "        self.conv1 = nn.Conv2d(3, 32, kernel_size=3, stride=1, padding=1)\n",
    "        self.conv2 = nn.Conv2d(32, 64, kernel_size=3, stride=1, padding=1)\n",
    "        self.conv3 = nn.Conv2d(64, 128, kernel_size=3, stride=1, padding=1)\n",
    "        self.pool = nn.MaxPool2d(kernel_size=2, stride=2, padding=0)\n",
    "        self.fc1 = nn.Linear(128 * 40 * 40, 256)\n",
    "        self.fc2 = nn.Linear(256, 64)\n",
    "        self.fc3 = nn.Linear(64, 1)\n",
    "        self.dropout = nn.Dropout(0.5)\n",
    "\n",
    "    def forward(self, x):\n",
    "        x = self.pool(F.relu(self.conv1(x)))\n",
    "        x = self.pool(F.relu(self.conv2(x)))\n",
    "        x = self.pool(F.relu(self.conv3(x)))\n",
    "        x = x.view(-1, 128 * 40 * 40)\n",
    "        x = F.relu(self.fc1(x))\n",
    "        x = self.dropout(x)\n",
    "        x = F.relu(self.fc2(x))\n",
    "        x = self.fc3(x)\n",
    "        return x\n",
    "\n",
    "print(summary(Net().to(device), (3, 320, 320)))"
   ]
  },
  {
   "cell_type": "code",
   "execution_count": 10,
   "id": "b1c6c381",
   "metadata": {
    "execution": {
     "iopub.execute_input": "2024-07-10T21:57:53.084320Z",
     "iopub.status.busy": "2024-07-10T21:57:53.084007Z",
     "iopub.status.idle": "2024-07-10T21:57:53.113946Z",
     "shell.execute_reply": "2024-07-10T21:57:53.113184Z"
    },
    "papermill": {
     "duration": 0.041531,
     "end_time": "2024-07-10T21:57:53.115941",
     "exception": false,
     "start_time": "2024-07-10T21:57:53.074410",
     "status": "completed"
    },
    "tags": []
   },
   "outputs": [],
   "source": [
    "# Загрузка тренеровочных данных\n",
    "full_dataset = CustomDataset('/kaggle/input/itmo-2/train_dataset.csv', '/kaggle/input/itmo-2/train_data', transform=transform)\n",
    "\n",
    "# Разделение на обучающую и валидационную выборки\n",
    "#train_dataset, val_dataset = split_dataset(full_dataset)\n",
    "\n",
    "train_size = int(0.9 * len(full_dataset))\n",
    "val_size = len(full_dataset) - train_size\n",
    "train_dataset, val_dataset = random_split(full_dataset, [train_size, val_size])\n",
    "\n",
    "train_loader = DataLoader(train_dataset, batch_size=64, shuffle=True)\n",
    "val_loader = DataLoader(val_dataset, batch_size=64, shuffle=False)\n",
    "\n"
   ]
  },
  {
   "cell_type": "code",
   "execution_count": 11,
   "id": "16c11498",
   "metadata": {
    "execution": {
     "iopub.execute_input": "2024-07-10T21:57:53.133308Z",
     "iopub.status.busy": "2024-07-10T21:57:53.133035Z",
     "iopub.status.idle": "2024-07-10T21:57:53.162482Z",
     "shell.execute_reply": "2024-07-10T21:57:53.161733Z"
    },
    "papermill": {
     "duration": 0.040193,
     "end_time": "2024-07-10T21:57:53.164621",
     "exception": false,
     "start_time": "2024-07-10T21:57:53.124428",
     "status": "completed"
    },
    "tags": []
   },
   "outputs": [],
   "source": [
    "# Загрузка тестовых данных\n",
    "test_df = pd.read_csv('/kaggle/input/itmo-2/test_dataset.csv')\n",
    "test_ids = test_df['ID'].values\n",
    "\n",
    "class TestDataset(Dataset):\n",
    "    def __init__(self, csv_file, root_dir, transform=None):\n",
    "        self.data = pd.read_csv(csv_file)\n",
    "        self.root_dir = root_dir\n",
    "        self.transform = transform\n",
    "\n",
    "    def __len__(self):\n",
    "        return len(self.data)\n",
    "\n",
    "    def __getitem__(self, idx):\n",
    "        img_name = os.path.join(self.root_dir, self.data.iloc[idx, 0])\n",
    "        image = Image.open(img_name).convert(\"RGB\")\n",
    "        if self.transform:\n",
    "            image = self.transform(image)\n",
    "        return image\n",
    "\n",
    "test_dataset = TestDataset(csv_file='/kaggle/input/itmo-2/test_dataset.csv', root_dir='/kaggle/input/itmo-2/test_data', transform=transform)\n",
    "test_loader = DataLoader(test_dataset, batch_size=16, shuffle=False)"
   ]
  },
  {
   "cell_type": "code",
   "execution_count": 12,
   "id": "21a81295",
   "metadata": {
    "execution": {
     "iopub.execute_input": "2024-07-10T21:57:53.181656Z",
     "iopub.status.busy": "2024-07-10T21:57:53.181416Z",
     "iopub.status.idle": "2024-07-10T21:57:53.187627Z",
     "shell.execute_reply": "2024-07-10T21:57:53.186753Z"
    },
    "papermill": {
     "duration": 0.016683,
     "end_time": "2024-07-10T21:57:53.189555",
     "exception": false,
     "start_time": "2024-07-10T21:57:53.172872",
     "status": "completed"
    },
    "tags": []
   },
   "outputs": [],
   "source": [
    "# Определение устройства для обучения (GPU, если доступен)\n",
    "device = torch.device(\"cuda\" if torch.cuda.is_available() else \"cpu\")\n",
    "\n",
    "# Определение модели, функции потерь и оптимизатора\n",
    "#model = Net().to(device)\n",
    "\n",
    "loss_fn = nn.MSELoss()\n",
    "optimizer = optim.AdamW(model.parameters(), lr=0.0001)"
   ]
  },
  {
   "cell_type": "code",
   "execution_count": 13,
   "id": "4af87ab3",
   "metadata": {
    "execution": {
     "iopub.execute_input": "2024-07-10T21:57:53.205914Z",
     "iopub.status.busy": "2024-07-10T21:57:53.205636Z",
     "iopub.status.idle": "2024-07-10T21:57:54.623912Z",
     "shell.execute_reply": "2024-07-10T21:57:54.622817Z"
    },
    "papermill": {
     "duration": 1.429122,
     "end_time": "2024-07-10T21:57:54.626231",
     "exception": false,
     "start_time": "2024-07-10T21:57:53.197109",
     "status": "completed"
    },
    "tags": []
   },
   "outputs": [
    {
     "data": {
      "image/png": "[encoded data removed]",
      "text/plain": [
       "<Figure size 1500x1500 with 4 Axes>"
      ]
     },
     "metadata": {},
     "output_type": "display_data"
    }
   ],
   "source": [
    "show_images(train_loader, num_images=4)"
   ]
  },
  {
   "cell_type": "code",
   "execution_count": 14,
   "id": "81da1ddc",
   "metadata": {
    "execution": {
     "iopub.execute_input": "2024-07-10T21:57:54.645471Z",
     "iopub.status.busy": "2024-07-10T21:57:54.645175Z",
     "iopub.status.idle": "2024-07-10T22:28:11.015970Z",
     "shell.execute_reply": "2024-07-10T22:28:11.015006Z"
    },
    "papermill": {
     "duration": 1816.393614,
     "end_time": "2024-07-10T22:28:11.028983",
     "exception": false,
     "start_time": "2024-07-10T21:57:54.635369",
     "status": "completed"
    },
    "tags": []
   },
   "outputs": [
    {
     "name": "stdout",
     "output_type": "stream",
     "text": [
      "Epoch 1/25, Loss: 8.1374, Val Loss: 1.7257, Val RMSE: 1.3137\n",
      "Epoch 2/25, Loss: 3.0166, Val Loss: 1.8216, Val RMSE: 1.3497\n",
      "Epoch 3/25, Loss: 1.4516, Val Loss: 1.3796, Val RMSE: 1.1746\n",
      "Epoch 4/25, Loss: 1.0433, Val Loss: 1.0989, Val RMSE: 1.0483\n",
      "Epoch 5/25, Loss: 0.9241, Val Loss: 1.5808, Val RMSE: 1.2573\n",
      "Epoch 6/25, Loss: 0.9280, Val Loss: 1.3693, Val RMSE: 1.1702\n",
      "Epoch 7/25, Loss: 0.8134, Val Loss: 0.8982, Val RMSE: 0.9477\n",
      "Epoch 8/25, Loss: 0.7166, Val Loss: 0.9644, Val RMSE: 0.9820\n",
      "Epoch 9/25, Loss: 0.6817, Val Loss: 0.7913, Val RMSE: 0.8896\n",
      "Epoch 10/25, Loss: 0.5999, Val Loss: 0.7373, Val RMSE: 0.8586\n",
      "Epoch 11/25, Loss: 0.5660, Val Loss: 1.4765, Val RMSE: 1.2151\n",
      "Epoch 12/25, Loss: 0.6502, Val Loss: 0.8997, Val RMSE: 0.9485\n",
      "Epoch 13/25, Loss: 0.6927, Val Loss: 1.1998, Val RMSE: 1.0953\n",
      "Epoch 14/25, Loss: 0.5517, Val Loss: 0.7942, Val RMSE: 0.8912\n",
      "Epoch 15/25, Loss: 0.4596, Val Loss: 1.2669, Val RMSE: 1.1255\n",
      "Epoch 16/25, Loss: 0.5054, Val Loss: 1.0606, Val RMSE: 1.0298\n",
      "Epoch 17/25, Loss: 0.3857, Val Loss: 0.6079, Val RMSE: 0.7797\n",
      "Epoch 18/25, Loss: 0.4584, Val Loss: 0.7064, Val RMSE: 0.8405\n",
      "Epoch 19/25, Loss: 0.3618, Val Loss: 0.6914, Val RMSE: 0.8315\n",
      "Epoch 20/25, Loss: 0.3736, Val Loss: 0.6310, Val RMSE: 0.7944\n",
      "Epoch 21/25, Loss: 0.3293, Val Loss: 0.5671, Val RMSE: 0.7531\n",
      "Epoch 22/25, Loss: 0.2975, Val Loss: 0.7698, Val RMSE: 0.8774\n",
      "Epoch 23/25, Loss: 0.3404, Val Loss: 0.6398, Val RMSE: 0.7999\n",
      "Epoch 24/25, Loss: 0.3035, Val Loss: 0.6953, Val RMSE: 0.8338\n",
      "Epoch 25/25, Loss: 0.3293, Val Loss: 0.6033, Val RMSE: 0.7767\n"
     ]
    }
   ],
   "source": [
    "history = train(model, optimizer, loss_fn, epochs=25, data_tr=train_loader, data_val=val_loader)"
   ]
  },
  {
   "cell_type": "code",
   "execution_count": 15,
   "id": "d4cd4f6a",
   "metadata": {
    "execution": {
     "iopub.execute_input": "2024-07-10T22:28:11.051443Z",
     "iopub.status.busy": "2024-07-10T22:28:11.051120Z",
     "iopub.status.idle": "2024-07-10T22:30:58.042920Z",
     "shell.execute_reply": "2024-07-10T22:30:58.041955Z"
    },
    "papermill": {
     "duration": 167.005561,
     "end_time": "2024-07-10T22:30:58.045006",
     "exception": false,
     "start_time": "2024-07-10T22:28:11.039445",
     "status": "completed"
    },
    "tags": []
   },
   "outputs": [
    {
     "data": {
      "image/png": "[encoded data removed]",
      "text/plain": [
       "<Figure size 1000x500 with 1 Axes>"
      ]
     },
     "metadata": {},
     "output_type": "display_data"
    },
    {
     "data": {
      "image/png": "[encoded data removed]",
      "text/plain": [
       "<Figure size 1000x500 with 1 Axes>"
      ]
     },
     "metadata": {},
     "output_type": "display_data"
    }
   ],
   "source": [
    "predictions = predict(model, test_loader)\n",
    "val_score, test_score = scores(model)\n",
    "make_graph(history, \"MyModel\", \"MSELoss\")"
   ]
  },
  {
   "cell_type": "code",
   "execution_count": 16,
   "id": "43ce608c",
   "metadata": {
    "execution": {
     "iopub.execute_input": "2024-07-10T22:30:58.069785Z",
     "iopub.status.busy": "2024-07-10T22:30:58.069475Z",
     "iopub.status.idle": "2024-07-10T22:30:58.074966Z",
     "shell.execute_reply": "2024-07-10T22:30:58.074104Z"
    },
    "papermill": {
     "duration": 0.02005,
     "end_time": "2024-07-10T22:30:58.076955",
     "exception": false,
     "start_time": "2024-07-10T22:30:58.056905",
     "status": "completed"
    },
    "tags": []
   },
   "outputs": [],
   "source": [
    "# Создание файла сабмита\n",
    "predictions\n",
    "predictions = np.round(predictions).astype(int)\n",
    "submission_df = pd.DataFrame({\n",
    "    'target': predictions,\n",
    "    'ID': test_ids\n",
    "})"
   ]
  },
  {
   "cell_type": "code",
   "execution_count": 17,
   "id": "695a5927",
   "metadata": {
    "execution": {
     "iopub.execute_input": "2024-07-10T22:30:58.104069Z",
     "iopub.status.busy": "2024-07-10T22:30:58.103746Z",
     "iopub.status.idle": "2024-07-10T22:30:58.119752Z",
     "shell.execute_reply": "2024-07-10T22:30:58.118904Z"
    },
    "papermill": {
     "duration": 0.033159,
     "end_time": "2024-07-10T22:30:58.121731",
     "exception": false,
     "start_time": "2024-07-10T22:30:58.088572",
     "status": "completed"
    },
    "tags": []
   },
   "outputs": [
    {
     "data": {
      "text/html": [
       "<div>\n",
       "<style scoped>\n",
       "    .dataframe tbody tr th:only-of-type {\n",
       "        vertical-align: middle;\n",
       "    }\n",
       "\n",
       "    .dataframe tbody tr th {\n",
       "        vertical-align: top;\n",
       "    }\n",
       "\n",
       "    .dataframe thead th {\n",
       "        text-align: right;\n",
       "    }\n",
       "</style>\n",
       "<table border=\"1\" class=\"dataframe\">\n",
       "  <thead>\n",
       "    <tr style=\"text-align: right;\">\n",
       "      <th></th>\n",
       "      <th>target</th>\n",
       "      <th>ID</th>\n",
       "    </tr>\n",
       "  </thead>\n",
       "  <tbody>\n",
       "    <tr>\n",
       "      <th>0</th>\n",
       "      <td>7</td>\n",
       "      <td>1</td>\n",
       "    </tr>\n",
       "    <tr>\n",
       "      <th>1</th>\n",
       "      <td>14</td>\n",
       "      <td>2</td>\n",
       "    </tr>\n",
       "    <tr>\n",
       "      <th>2</th>\n",
       "      <td>2</td>\n",
       "      <td>3</td>\n",
       "    </tr>\n",
       "    <tr>\n",
       "      <th>3</th>\n",
       "      <td>5</td>\n",
       "      <td>4</td>\n",
       "    </tr>\n",
       "    <tr>\n",
       "      <th>4</th>\n",
       "      <td>9</td>\n",
       "      <td>5</td>\n",
       "    </tr>\n",
       "    <tr>\n",
       "      <th>...</th>\n",
       "      <td>...</td>\n",
       "      <td>...</td>\n",
       "    </tr>\n",
       "    <tr>\n",
       "      <th>5995</th>\n",
       "      <td>14</td>\n",
       "      <td>5996</td>\n",
       "    </tr>\n",
       "    <tr>\n",
       "      <th>5996</th>\n",
       "      <td>11</td>\n",
       "      <td>5997</td>\n",
       "    </tr>\n",
       "    <tr>\n",
       "      <th>5997</th>\n",
       "      <td>13</td>\n",
       "      <td>5998</td>\n",
       "    </tr>\n",
       "    <tr>\n",
       "      <th>5998</th>\n",
       "      <td>8</td>\n",
       "      <td>5999</td>\n",
       "    </tr>\n",
       "    <tr>\n",
       "      <th>5999</th>\n",
       "      <td>2</td>\n",
       "      <td>6000</td>\n",
       "    </tr>\n",
       "  </tbody>\n",
       "</table>\n",
       "<p>6000 rows × 2 columns</p>\n",
       "</div>"
      ],
      "text/plain": [
       "      target    ID\n",
       "0          7     1\n",
       "1         14     2\n",
       "2          2     3\n",
       "3          5     4\n",
       "4          9     5\n",
       "...      ...   ...\n",
       "5995      14  5996\n",
       "5996      11  5997\n",
       "5997      13  5998\n",
       "5998       8  5999\n",
       "5999       2  6000\n",
       "\n",
       "[6000 rows x 2 columns]"
      ]
     },
     "execution_count": 17,
     "metadata": {},
     "output_type": "execute_result"
    }
   ],
   "source": [
    "submission_df"
   ]
  },
  {
   "cell_type": "code",
   "execution_count": 18,
   "id": "dba22a49",
   "metadata": {
    "execution": {
     "iopub.execute_input": "2024-07-10T22:30:58.146444Z",
     "iopub.status.busy": "2024-07-10T22:30:58.146168Z",
     "iopub.status.idle": "2024-07-10T22:30:58.159078Z",
     "shell.execute_reply": "2024-07-10T22:30:58.158214Z"
    },
    "papermill": {
     "duration": 0.027384,
     "end_time": "2024-07-10T22:30:58.161052",
     "exception": false,
     "start_time": "2024-07-10T22:30:58.133668",
     "status": "completed"
    },
    "tags": []
   },
   "outputs": [],
   "source": [
    "submission_df.to_csv('/kaggle/working/v18res50epochsBatch64.csv', index=False)"
   ]
  },
  {
   "cell_type": "code",
   "execution_count": null,
   "id": "6462309f",
   "metadata": {
    "papermill": {
     "duration": 0.011624,
     "end_time": "2024-07-10T22:30:58.184763",
     "exception": false,
     "start_time": "2024-07-10T22:30:58.173139",
     "status": "completed"
    },
    "tags": []
   },
   "outputs": [],
   "source": []
  },
  {
   "cell_type": "code",
   "execution_count": null,
   "id": "4118e62d",
   "metadata": {
    "papermill": {
     "duration": 0.012229,
     "end_time": "2024-07-10T22:30:58.209318",
     "exception": false,
     "start_time": "2024-07-10T22:30:58.197089",
     "status": "completed"
    },
    "tags": []
   },
   "outputs": [],
   "source": []
  },
  {
   "cell_type": "code",
   "execution_count": null,
   "id": "e45757ac",
   "metadata": {
    "papermill": {
     "duration": 0.012166,
     "end_time": "2024-07-10T22:30:58.233491",
     "exception": false,
     "start_time": "2024-07-10T22:30:58.221325",
     "status": "completed"
    },
    "tags": []
   },
   "outputs": [],
   "source": []
  }
 ],
 "metadata": {
  "kaggle": {
   "accelerator": "nvidiaTeslaT4",
   "dataSources": [
    {
     "datasetId": 5346480,
     "sourceId": 8886731,
     "sourceType": "datasetVersion"
    }
   ],
   "dockerImageVersionId": 30732,
   "isGpuEnabled": true,
   "isInternetEnabled": true,
   "language": "python",
   "sourceType": "notebook"
  },
  "kernelspec": {
   "display_name": "Python 3",
   "language": "python",
   "name": "python3"
  },
  "language_info": {
   "codemirror_mode": {
    "name": "ipython",
    "version": 3
   },
   "file_extension": ".py",
   "mimetype": "text/x-python",
   "name": "python",
   "nbconvert_exporter": "python",
   "pygments_lexer": "ipython3",
   "version": "3.10.13"
  },
  "papermill": {
   "default_parameters": {},
   "duration": 2011.709857,
   "end_time": "2024-07-10T22:30:59.872857",
   "environment_variables": {},
   "exception": null,
   "input_path": "__notebook__.ipynb",
   "output_path": "__notebook__.ipynb",
   "parameters": {},
   "start_time": "2024-07-10T21:57:28.163000",
   "version": "2.5.0"
  }
 },
 "nbformat": 4,
 "nbformat_minor": 5
}
